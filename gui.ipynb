{
 "cells": [
  {
   "cell_type": "code",
   "execution_count": 239,
   "metadata": {},
   "outputs": [],
   "source": [
    "from tkinter import filedialog\n",
    "from tkinter import *\n",
    "from tkinter import messagebox\n",
    "file=''\n",
    "mylist=[]\n",
    "def submit():\n",
    "    global file\n",
    "    global mylist\n",
    "    file=txt.get()\n",
    "    if file=='':\n",
    "        messagebox.showinfo('FILEPATH IS NULL', 'Please enter some file path!')\n",
    "    else:\n",
    "        mylist=file.split()\n",
    "def browse():\n",
    "    global file\n",
    "    file =filedialog.askopenfilenames(filetypes = ((\"Text files\",\"*.txt\"),(\"png files\",\"*.png\"),(\"jpeg files\",\"*.jpg\"),(\"Gif files\",\"*.gif\")))\n",
    "    txt.insert(0,file)\n",
    "def filenames():\n",
    "    return mylist\n",
    "    "
   ]
  },
  {
   "cell_type": "code",
   "execution_count": 240,
   "metadata": {},
   "outputs": [],
   "source": [
    "root = Tk()\n",
    "root.title('CAMCODE')\n",
    "root.geometry('{}x{}'.format(460, 350))\n",
    "\n",
    "# create all of the main containers\n",
    "top_frame = Frame(root, bg='cyan', width=450, height=50, pady=3)\n",
    "center = Frame(root, bg='gray2', width=50, height=40, padx=3, pady=3)\n",
    "btm_frame = Frame(root, bg='white', width=450, height=45, pady=0)\n",
    "btm_frame2 = Frame(root, bg='lavender', width=450, height=60, pady=3)\n",
    "\n",
    "# layout all of the main containers\n",
    "root.grid_rowconfigure(1, weight=1)\n",
    "root.grid_columnconfigure(0, weight=1)\n",
    "\n",
    "top_frame.grid(row=0, sticky=\"ew\")\n",
    "center.grid(row=1, sticky=\"nsew\")\n",
    "btm_frame.grid(row=3, sticky=\"ew\")\n",
    "btm_frame2.grid(row=4, sticky=\"ew\")\n",
    "\n",
    "# create the widgets for the top frame\n",
    "model_label = Label(top_frame, text=\"CAMCODE EXECUTER\",font=(\"Segoe UI\", 40),fg=\"dark green\",padx=500)#Label(top_frame, text='Model Dimensions')\n",
    "#width_label = Label(top_frame, text='Width:')\n",
    "#length_label = Label(top_frame, text='Length:')\n",
    "#entry_W = Entry(top_frame, background=\"pink\")\n",
    "#entry_L = Entry(top_frame, background=\"orange\")\n",
    "\n",
    "# layout the widgets in the top frame\n",
    "model_label.grid(row=0, columnspan=2)\n",
    "#width_label.grid(row=1, column=0)\n",
    "#length_label.grid(row=1, column=2)\n",
    "#entry_W.grid(row=1, column=1)\n",
    "#entry_L.grid(row=1, column=3)\n",
    "\n",
    "# create the center widgets\n",
    "center.grid_rowconfigure(0, weight=1)\n",
    "center.grid_columnconfigure(1, weight=1)\n",
    "ctr_left = Frame(center, bg='blue', width=100, height=190)\n",
    "ctr_mid = Frame(center, bg='yellow', width=250, height=190, padx=3, pady=3)\n",
    "ctr_right = Frame(center, bg='green', width=100, height=190, padx=3, pady=3)\n",
    "lbl1 = Label(ctr_mid, text=\"WANT TO ATTACH FILES ?\",font=(\"Segoe UI\",20),fg=\"dark green\")\n",
    "txt = Entry(ctr_mid,width=40)\n",
    "btn2 = Button(ctr_mid, text=\"SUBMIT\",command=submit,fg=\"black\",width=10,bg=\"light green\")\n",
    "btn1 = Button(ctr_mid, text=\"BROWSE\",command=browse,fg=\"black\",width=10,bg=\"light green\")\n",
    "txt.grid(row=3,columnspan=1,pady=350) \n",
    "lbl1.grid(row=1,columnspan=2)\n",
    "btn1.grid(row=3,column=1,padx=4)\n",
    "btn2.grid(row=3,column=2,padx=3)\n",
    "ctr_left.grid(row=0, column=0, sticky=\"ns\")\n",
    "ctr_mid.grid(row=0, column=1, sticky=\"nsew\")\n",
    "ctr_right.grid(row=0, column=2, sticky=\"ns\")\n",
    "root.mainloop()"
   ]
  },
  {
   "cell_type": "code",
   "execution_count": 241,
   "metadata": {},
   "outputs": [
    {
     "data": {
      "text/plain": [
       "['C:/TC/BIN/test.txt', 'C:/TC/BIN/stderr.txt', 'C:/TC/BIN/stdout.txt']"
      ]
     },
     "execution_count": 241,
     "metadata": {},
     "output_type": "execute_result"
    }
   ],
   "source": []
  },
  {
   "cell_type": "code",
   "execution_count": null,
   "metadata": {},
   "outputs": [],
   "source": []
  }
 ],
 "metadata": {
  "kernelspec": {
   "display_name": "Python 3",
   "language": "python",
   "name": "python3"
  },
  "language_info": {
   "codemirror_mode": {
    "name": "ipython",
    "version": 3
   },
   "file_extension": ".py",
   "mimetype": "text/x-python",
   "name": "python",
   "nbconvert_exporter": "python",
   "pygments_lexer": "ipython3",
   "version": "3.6.4"
  }
 },
 "nbformat": 4,
 "nbformat_minor": 2
}
